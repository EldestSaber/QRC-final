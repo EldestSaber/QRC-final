{
  "nbformat": 4,
  "nbformat_minor": 0,
  "metadata": {
    "colab": {
      "provenance": []
    },
    "kernelspec": {
      "name": "python3",
      "display_name": "Python 3"
    },
    "language_info": {
      "name": "python"
    }
  },
  "cells": [
    {
      "cell_type": "markdown",
      "source": [
        "# Model versions\n",
        "## Logistic Regression Models:\n",
        "- [Logistic regression original model](https://colab.research.google.com/drive/1uAuyuJV7Q1VA8Z30iSg45AjZFAca-BWB)\n",
        "- [Logistic regression clean version 1](https://colab.research.google.com/drive/1Bqv6bkS5OR-8JoN4fbmCdX7dCj8WzI85)\n",
        "- [Logistic regression clean version 2](https://colab.research.google.com/drive/10tTbLuWibrU3-T4aDglo7DHrSJDS959a)\n",
        "- [Logistic regression clean version 3](https://colab.research.google.com/drive/1ScglwXFPKzxsqZTVpCK-MHXJq17DtyDY)\n",
        "- [Logistic regression clean version 4](https://colab.research.google.com/drive/1yI5ChwnjZhupAqlTp0TitbdFYPID5U12)\n",
        "- [Logistic regression clean version 5](https://colab.research.google.com/drive/1JGAvn3LGv0gTShqxzShvnn_4CFtatOHZ)\n",
        "## Random Forest Models:\n",
        "- [Random forest original model](https://colab.research.google.com/drive/1rrnK7H6a3J8DBXQ9dLGaZBxNruzJ2g0M)\n",
        "- [Random forest clean version 1](https://colab.research.google.com/drive/1hhKQp3F3_ds-G7NQI7xeBmU3bRDTQq_J)\n",
        "- [Random forest clean version 2](https://colab.research.google.com/drive/1Ym-Wbqu-XRbxgAd9cERbeSzjr5CAp_eB)\n",
        "- [Random forest clean version 3](https://colab.research.google.com/drive/1vQE7jZYc78Zp0Dd3xnpDFjnaSCKl7eVZ)\n",
        "- [Random forest clean version 4](https://colab.research.google.com/drive/1kZJx1V7NuLW-HdO7E1qWufHDBgZ4fDrC)\n",
        "- [Random forest clean version 5](https://colab.research.google.com/drive/1DI-XyfLTI1pzWB-2pfzIzf9BkVOFZ74f)\n",
        "## Decision Tree Models:\n",
        "- [Decision tree original model](https://colab.research.google.com/drive/17yt4xduEoSih4umK_BxXiKHxeDN0oadU)\n",
        "- [Decision tree clean version 1](https://colab.research.google.com/drive/1_D0meIACE6rsaSXq1cjmpYqVdp5gzdv9#scrollTo=F3yhzYaqheyI)\n",
        "- [Decision tree clean version 2](https://colab.research.google.com/drive/14ptgz7IRoTQco0HEfdb6ZZ6ZGDfrDWS2)\n",
        "- [Decision tree clean version 3](https://colab.research.google.com/drive/1l8b32T4siR4P_eyJdhtqRL4oBNqi-wXD)\n",
        "- [Decision tree clean version 4](https://colab.research.google.com/drive/1wCaXAj0yyCWg2mlm9j5RhEhSUm39N_t0)\n",
        "- [Decision tree clean version 5](https://colab.research.google.com/drive/14OhTFU2UVypHjRaJsGBx53jG7QevWKCY#scrollTo=mtXid2srf6qd)\n",
        "\n",
        "## Neural Network Models:\n",
        "\n",
        "\n",
        "- [Neural network](https://colab.research.google.com/drive/1F5vRtH7SzSlGd6Rmk-xWOj2kkpMflYpt)\n",
        "## Documentation:\n",
        "- [Documentation Link](https://drive.google.com/file/d/1wcYl_0yJZyKGj2fG9ieHVgC6_7yfEODb/view?usp=share_link)"
      ],
      "metadata": {
        "id": "JK4kA3NSE_-z"
      }
    },
    {
      "cell_type": "code",
      "execution_count": null,
      "metadata": {
        "id": "JkZlqk_EEl6q"
      },
      "outputs": [],
      "source": []
    }
  ]
}